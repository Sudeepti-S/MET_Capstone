{
 "cells": [
  {
   "cell_type": "code",
   "execution_count": null,
   "metadata": {},
   "outputs": [],
   "source": [
    "import sqlite3\n",
    "\n",
    "\n",
    "#Create a function to convert digital data i.e., images or any file to binary data.\n",
    "\n",
    "#Execute the INSERT query using the cursor.execute().\n",
    "\n",
    "#After the successful execution of SQLite insert operation, commit your changes to the database.\n",
    "\n",
    "def convertToBinaryData(filename):\n",
    "    #Convert digital data to binary format\n",
    "    with open(filename, 'rb') as file:\n",
    "        # .jpgs \n",
    "        blobData = file.read()\n",
    "    return blobData\n",
    "\n",
    "def insertBLOB(image):\n",
    "    try:\n",
    "        sqliteConnection = sqlite3.connect('mapi.db')\n",
    "        sqliteConnection = sqlite3.connect('image.db')\n",
    "        cursor = sqliteConnection.cursor()\n",
    "        print(\"Connected to SQLite\")\n",
    "        \n",
    "        \n",
    "        \n",
    "        sqlite_insert_blob_query = \"\"\" INSERT INTO 'newPrimaryImage'\"\"\"\n",
    "        \n",
    "        object_image = convertToBinaryData(photo)\n",
    "        \n",
    "        \n",
    "        sqliteConnection.commit()\n",
    "        print(\"Image and file inserted successfully as a BLOB into a table\")\n",
    "        cursor.close()\n",
    "        \n",
    "        \n",
    "        \n",
    "        c.execute\"INSERT INTO thumbnail VALUES (imgobj)\".\\\n",
    "        \n",
    "\n",
    "cursor.execute('insert into test() values (?)',\n",
    "[sqlite3.Binary(file.read())])\n",
    "\n",
    "        # binary\n",
    "cursor.execute(\"INSERT INTO image VALUES (imgobj)\".format(sqlite3.Binary(file.read())))\n",
    "cursor.execute(\"INSERT INTO image(thumbnail) VALUES (imgobj);\")\n",
    "\n",
    "        \n",
    "cursor.execute('select thumbnail from pictures')\n",
    "\n",
    "\n",
    "\n",
    "\n",
    "\n"
   ]
  }
 ],
 "metadata": {
  "kernelspec": {
   "display_name": "Python 3",
   "language": "python",
   "name": "python3"
  },
  "language_info": {
   "codemirror_mode": {
    "name": "ipython",
    "version": 3
   },
   "file_extension": ".py",
   "mimetype": "text/x-python",
   "name": "python",
   "nbconvert_exporter": "python",
   "pygments_lexer": "ipython3",
   "version": "3.7.3"
  }
 },
 "nbformat": 4,
 "nbformat_minor": 2
}
