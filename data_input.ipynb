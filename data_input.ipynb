{
 "cells": [
  {
   "cell_type": "code",
   "execution_count": 1,
   "metadata": {},
   "outputs": [],
   "source": [
    "#pip install requests\n",
    "\n",
    "#---------------importing packages-------------------#\n",
    "#conda install requests \n",
    "import numpy as py \n",
    "import pandas as pd \n",
    "import requests \n",
    "import json \n",
    "\n",
    "\n",
    "objectID = requests.get(\"https://collectionapi.metmuseum.org/public/collection/v1/objects\")\n",
    "# total number of rows : 469296"
   ]
  },
  {
   "cell_type": "code",
   "execution_count": 2,
   "metadata": {},
   "outputs": [
    {
     "name": "stdout",
     "output_type": "stream",
     "text": [
      "200\n"
     ]
    }
   ],
   "source": [
    "print(objectID.status_code)"
   ]
  },
  {
   "cell_type": "code",
   "execution_count": 6,
   "metadata": {},
   "outputs": [
    {
     "name": "stdout",
     "output_type": "stream",
     "text": [
      "{'Access-Control-Allow-Origin': '*', 'Content-Type': 'application/json; charset=UTF-8', 'Vary': 'Origin', 'Date': 'Thu, 26 Sep 2019 17:55:47 GMT', 'Transfer-Encoding': 'chunked', 'Set-Cookie': 'visid_incap_1662004=myxJG0fZTfSQcZ8lJxrZ4jD7jF0AAAAAQUIPAAAAAADbRkvuQJnFrf8VDk60oCt4; expires=Fri, 25 Sep 2020 08:23:56 GMT; path=/; Domain=.metmuseum.org, incap_ses_890_1662004=dU9ROid7PBaUUPNTPetZDKP7jF0AAAAA5EYvI2+r3crZRIFcaT2OBA==; path=/; Domain=.metmuseum.org, ___utmvmkkuKBSmB=YKQvvEMehjr; path=/; Max-Age=900, ___utmvakkuKBSmB=ifX\\x01ECFw; path=/; Max-Age=900, ___utmvbkkuKBSmB=eZF\\r\\n    XSQOAalD: Ptp; path=/; Max-Age=900', 'X-Iinfo': '0-1198948-1198950 NNNN CT(0 0 0) RT(1569520545947 35) q(0 0 0 0) r(16 16) U12', 'X-CDN': 'Incapsula', 'Content-Encoding': 'gzip'}\n"
     ]
    }
   ],
   "source": [
    "#if you receive a ‘200’ code - that tells us that our request was successful\n",
    "\n",
    "#retrieve all the objectIDs \n",
    "objectID.json()\n",
    "#json.dumps() — Takes in a Python object, and converts (dumps) it to a string.\n",
    "#json.loads() — Takes a JSON string, and converts (loads) it to a Python object."
   ]
  },
  {
   "cell_type": "code",
   "execution_count": null,
   "metadata": {},
   "outputs": [],
   "source": [
    ""
   ]
  },
  {
   "cell_type": "code",
   "execution_count": 9,
   "metadata": {},
   "outputs": [],
   "source": [
    "url = \"https://collectionapi.metmuseum.org/public/collection/v1/objects\"\n",
    "JSONContent = requests.get(url).json()\n",
    "#JSON: JavaScript Object Notation.\n",
    "#JSON is a syntax for storing and exchanging data."
   ]
  },
  {
   "cell_type": "code",
   "execution_count": 12,
   "metadata": {},
   "outputs": [],
   "source": [
    "ids = JSONContent['objectIDs']"
   ]
  },
  {
   "cell_type": "code",
   "execution_count": 18,
   "metadata": {},
   "outputs": [
    {
     "name": "stdout",
     "output_type": "stream",
     "text": [
      "https://images.metmuseum.org/CRDImages/ad/original/147884.jpg\n"
     ]
    }
   ],
   "source": [
    "for id_ in ids:\n",
    "    content = requests.get(\"https://collectionapi.metmuseum.org/public/collection/v1/objects/\" + str(id_)).json()\n",
    "#     print(content)\n",
    "    url = content['primaryImage']\n",
    "    if url=='':\n",
    "        continue\n",
    "    print(url)\n",
    "    break"
   ]
  },
  {
   "cell_type": "code",
   "execution_count": 8,
   "metadata": {},
   "outputs": [
    {
     "ename": "NameError",
     "evalue": "name 'content' is not defined",
     "output_type": "error",
     "traceback": [
      "\u001b[0;31m---------------------------------------------------------------------------\u001b[0m",
      "\u001b[0;31mNameError\u001b[0m                                 Traceback (most recent call last)",
      "\u001b[0;32m<ipython-input-8-742c8e0e8a2d>\u001b[0m in \u001b[0;36m<module>\u001b[0;34m\u001b[0m\n\u001b[1;32m      2\u001b[0m \u001b[0mJSONContent\u001b[0m \u001b[0;34m=\u001b[0m \u001b[0mrequests\u001b[0m\u001b[0;34m.\u001b[0m\u001b[0mget\u001b[0m\u001b[0;34m(\u001b[0m\u001b[0murl\u001b[0m\u001b[0;34m)\u001b[0m\u001b[0;34m.\u001b[0m\u001b[0mjson\u001b[0m\u001b[0;34m\u001b[0m\u001b[0;34m\u001b[0m\u001b[0m\n\u001b[1;32m      3\u001b[0m \u001b[0;31m# content = json.dumps(JSONcontent, indent = 4, sort_keys = True)\u001b[0m\u001b[0;34m\u001b[0m\u001b[0;34m\u001b[0m\u001b[0;34m\u001b[0m\u001b[0m\n\u001b[0;32m----> 4\u001b[0;31m \u001b[0mprint\u001b[0m\u001b[0;34m(\u001b[0m\u001b[0mcontent\u001b[0m\u001b[0;34m)\u001b[0m\u001b[0;34m\u001b[0m\u001b[0;34m\u001b[0m\u001b[0m\n\u001b[0m\u001b[1;32m      5\u001b[0m \u001b[0;34m\u001b[0m\u001b[0m\n\u001b[1;32m      6\u001b[0m \u001b[0;31m#List channels you want to access\u001b[0m\u001b[0;34m\u001b[0m\u001b[0;34m\u001b[0m\u001b[0;34m\u001b[0m\u001b[0m\n",
      "\u001b[0;31mNameError\u001b[0m: name 'content' is not defined"
     ]
    }
   ],
   "source": [
    "# content = json.dumps(JSONcontent, indent = 4, sort_keys = True)\n",
    "# print(content)\n",
    "\n",
    "#List channels you want to access \n",
    "\n",
    "chanels = [\"objectID\"]"
   ]
  },
  {
   "cell_type": "code",
   "execution_count": 19,
   "metadata": {},
   "outputs": [
    {
     "ename": "NameError",
     "evalue": "name 'channels' is not defined",
     "output_type": "error",
     "traceback": [
      "\u001b[0;31m---------------------------------------------------------------------------\u001b[0m",
      "\u001b[0;31mNameError\u001b[0m                                 Traceback (most recent call last)",
      "\u001b[0;32m<ipython-input-19-a27c165ce5d7>\u001b[0m in \u001b[0;36m<module>\u001b[0;34m\u001b[0m\n\u001b[1;32m      3\u001b[0m \u001b[0;31m#---------------data extraction-------------------#\u001b[0m\u001b[0;34m\u001b[0m\u001b[0;34m\u001b[0m\u001b[0;34m\u001b[0m\u001b[0m\n\u001b[1;32m      4\u001b[0m \u001b[0;31m# For each channel, we access its information through its API\u001b[0m\u001b[0;34m\u001b[0m\u001b[0;34m\u001b[0m\u001b[0;34m\u001b[0m\u001b[0m\n\u001b[0;32m----> 5\u001b[0;31m \u001b[0;32mfor\u001b[0m \u001b[0mchannel\u001b[0m \u001b[0;32min\u001b[0m \u001b[0mchannels\u001b[0m\u001b[0;34m:\u001b[0m\u001b[0;34m\u001b[0m\u001b[0;34m\u001b[0m\u001b[0m\n\u001b[0m\u001b[1;32m      6\u001b[0m     \u001b[0mJSONContent\u001b[0m \u001b[0;34m=\u001b[0m \u001b[0mrequests\u001b[0m\u001b[0;34m.\u001b[0m\u001b[0mget\u001b[0m\u001b[0;34m(\u001b[0m\u001b[0;34m\"https://collectionapi.metmuseum.org/public/collection/v1/objects/\"\u001b[0m \u001b[0;34m+\u001b[0m \u001b[0mobjectID\u001b[0m\u001b[0;34m)\u001b[0m\u001b[0;34m.\u001b[0m\u001b[0mjson\u001b[0m\u001b[0;34m(\u001b[0m\u001b[0;34m)\u001b[0m\u001b[0;34m\u001b[0m\u001b[0;34m\u001b[0m\u001b[0m\n\u001b[1;32m      7\u001b[0m     \u001b[0;32mif\u001b[0m \u001b[0;34m'error'\u001b[0m \u001b[0;32mnot\u001b[0m \u001b[0;32min\u001b[0m \u001b[0mJSONContent\u001b[0m\u001b[0;34m:\u001b[0m\u001b[0;34m\u001b[0m\u001b[0;34m\u001b[0m\u001b[0m\n",
      "\u001b[0;31mNameError\u001b[0m: name 'channels' is not defined"
     ]
    }
   ],
   "source": [
    "chanels = [\"objectID\"]\n",
    "channels_list = []\n",
    "\n",
    "#---------------data extraction-------------------#\n",
    "# For each channel, we access its information through its API\n",
    "for channel in channels:\n",
    "    JSONContent = requests.get(\"https://collectionapi.metmuseum.org/public/collection/v1/objects/\" + objectID).json()\n",
    "    if 'error' not in JSONContent:\n",
    "        channels_list.append([JSONContent['objectID'], JSONContent['isHighlight'], JSONContent['accessionNumber'],\n",
    "                             JSONContent['isPublicDomain'], JSONContent['primaryImage'], JSONContent['primaryImageSmall'], JSONContent['additionalImages'], JSONContent['constituents'], \n",
    "                              JSONContent['department'],JSONContent['objectName'],JSONContent['title'], JSONContent['culture'], JSONContent['period'], JSONContent['dynasty'], JSONContent['reign']\n",
    "                             , JSONContent['portfolio'], JSONContent['artistRole'], JSONContent['artistPrefix'], JSONContent['artistDisplayName'], JSONContent['artistDisplayBio'], JSONContent['artistSuffix'], JSONContent['artistAlphaSort'], JSONContent['artistNationality']\n",
    "                             , JSONContent['artistBeginDate'], JSONContent['artistEndDate'], JSONContent['objectDate'], JSONContent['objectBeginDate'], JSONContent['objectEndDate'], JSONContent['medium'], JSONContent['dimensions'], JSONContent['creditLine'], JSONContent['geographyType'], JSONContent['city'], JSONContent['state']\n",
    "                             , JSONContent['county'], JSONContent['country'], JSONContent['region'], JSONContent['subregion'], JSONContent[''], JSONContent['locale'], JSONContent['locus'], JSONContent['excavation'], JSONContent['river'], JSONContent['classification'], JSONContent['rightsAndReproduction'], JSONContent['linkResource'], JSONContent['metadataDate'], JSONContent['repository'], JSONContent['objectURL']\n",
    "                             , JSONContent['tags']])"
   ]
  },
  {
   "cell_type": "code",
   "execution_count": null,
   "metadata": {},
   "outputs": [],
   "source": [
    "df = pd.DataFrame(channels_list)\n",
    "\n",
    "df.columns = ['objectID', 'isHighlight','accessionNumber','isPublicDomain','primaryImage','primaryImageSmall','additionalImages', 'constituents', \n",
    "                             'department','objectName','title''culture''period','dynasty', 'reign\n",
    "                             ,'portfolio', 'artistRole','artistPrefix', 'artistDisplayName', 'artistDisplayBio','artistSuffix', 'artistAlphaSort', 'artistNationality'\n",
    "                            'artistBeginDate', 'artistEndDate', 'objectDate', 'objectBeginDate', 'objectEndDate', 'medium', 'dimensions','creditLine', 'geographyType','city', 'state'\n",
    "                             'county', 'country', 'region', 'subregion','locale', 'locus', 'excavation', 'river', 'classification', 'rightsAndReproduction', 'linkResource','metadataDate', 'repository', 'objectURL'\n",
    "                             ,'tags']\n",
    "\n",
    "\n",
    "\n",
    "\n",
    "\n",
    "\n",
    "#The pandas sample() method displays randomly selected rows of the dataframe.\n",
    "df.sample(5)\n",
    "\n",
    "\n",
    "df.head()\n",
    "df.tail()\n",
    "\n",
    "\n",
    "\n",
    "\n",
    "\n",
    "#channels ->"
   ]
  },
  {
   "cell_type": "code",
   "execution_count": null,
   "metadata": {},
   "outputs": [],
   "source": [
    ""
   ]
  }
 ],
 "metadata": {
  "kernelspec": {
   "display_name": "Python 3",
   "language": "python",
   "name": "python3"
  },
  "language_info": {
   "codemirror_mode": {
    "name": "ipython",
    "version": 3.0
   },
   "file_extension": ".py",
   "mimetype": "text/x-python",
   "name": "python",
   "nbconvert_exporter": "python",
   "pygments_lexer": "ipython3",
   "version": "3.7.3"
  }
 },
 "nbformat": 4,
 "nbformat_minor": 2
}